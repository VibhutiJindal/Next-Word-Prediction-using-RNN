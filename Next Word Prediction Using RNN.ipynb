{
 "cells": [
  {
   "cell_type": "markdown",
   "id": "6ad68ee6",
   "metadata": {},
   "source": [
    "## NEXT WORD PREDICTION USING RNN"
   ]
  },
  {
   "cell_type": "code",
   "execution_count": 1,
   "id": "fd0a3ed2",
   "metadata": {},
   "outputs": [],
   "source": [
    "#importing necessary libraries\n",
    "import numpy as np\n",
    "import pandas as pd\n",
    "from keras.preprocessing.text import Tokenizer\n",
    "from keras.utils import np_utils\n",
    "from keras.layers import Dense, LSTM ,Embedding\n",
    "from keras.models import Sequential\n"
   ]
  },
  {
   "cell_type": "code",
   "execution_count": 2,
   "id": "8e494620",
   "metadata": {},
   "outputs": [],
   "source": [
    "#source text\n",
    "data='''Data science is an interdisciplinary field that uses scientific methods, processes, algorithms and systems \n",
    "to extract knowledge and insights from noisy, structured and unstructured data, and apply knowledge from data across\n",
    "a broad range of application domains. Data science is related to data mining, machine learning and big data.\n",
    "Data science is a concept to unify statistics, data analysis, informatics, and their related methods in order to \n",
    "understand and analyse actual phenomena with data.It uses techniques and theories drawn from many fields within \n",
    "the context of mathematics, statistics, computer science, information science, and domain knowledge.'''"
   ]
  },
  {
   "cell_type": "code",
   "execution_count": 3,
   "id": "6bb114bf",
   "metadata": {},
   "outputs": [
    {
     "data": {
      "text/plain": [
       "[1,\n",
       " 3,\n",
       " 5,\n",
       " 14,\n",
       " 15,\n",
       " 16,\n",
       " 17,\n",
       " 8,\n",
       " 18,\n",
       " 9,\n",
       " 19,\n",
       " 20,\n",
       " 2,\n",
       " 21,\n",
       " 4,\n",
       " 22,\n",
       " 6,\n",
       " 2,\n",
       " 23,\n",
       " 7,\n",
       " 24,\n",
       " 25,\n",
       " 2,\n",
       " 26,\n",
       " 1,\n",
       " 2,\n",
       " 27,\n",
       " 6,\n",
       " 7,\n",
       " 1,\n",
       " 28,\n",
       " 10,\n",
       " 29,\n",
       " 30,\n",
       " 11,\n",
       " 31,\n",
       " 32,\n",
       " 1,\n",
       " 3,\n",
       " 5,\n",
       " 12,\n",
       " 4,\n",
       " 1,\n",
       " 33,\n",
       " 34,\n",
       " 35,\n",
       " 2,\n",
       " 36,\n",
       " 1,\n",
       " 1,\n",
       " 3,\n",
       " 5,\n",
       " 10,\n",
       " 37,\n",
       " 4,\n",
       " 38,\n",
       " 13,\n",
       " 1,\n",
       " 39,\n",
       " 40,\n",
       " 2,\n",
       " 41,\n",
       " 12,\n",
       " 9,\n",
       " 42,\n",
       " 43,\n",
       " 4,\n",
       " 44,\n",
       " 2,\n",
       " 45,\n",
       " 46,\n",
       " 47,\n",
       " 48,\n",
       " 1,\n",
       " 49,\n",
       " 8,\n",
       " 50,\n",
       " 2,\n",
       " 51,\n",
       " 52,\n",
       " 7,\n",
       " 53,\n",
       " 54,\n",
       " 55,\n",
       " 56,\n",
       " 57,\n",
       " 11,\n",
       " 58,\n",
       " 13,\n",
       " 59,\n",
       " 3,\n",
       " 60,\n",
       " 3,\n",
       " 2,\n",
       " 61,\n",
       " 6]"
      ]
     },
     "execution_count": 3,
     "metadata": {},
     "output_type": "execute_result"
    }
   ],
   "source": [
    "#integer encode text\n",
    "tokenizer=Tokenizer()\n",
    "tokenizer.fit_on_texts([data])\n",
    "encoded_data= tokenizer.texts_to_sequences([data])[0]\n",
    "encoded_data"
   ]
  },
  {
   "cell_type": "code",
   "execution_count": 4,
   "id": "de3e7b84",
   "metadata": {},
   "outputs": [
    {
     "name": "stdout",
     "output_type": "stream",
     "text": [
      "Vocabulary Size is 62\n"
     ]
    }
   ],
   "source": [
    "#determining the vocabulary size\n",
    "vocab_size=len(tokenizer.word_index)+1\n",
    "print(\"Vocabulary Size is {}\".format(vocab_size))"
   ]
  },
  {
   "cell_type": "code",
   "execution_count": 5,
   "id": "755bf816",
   "metadata": {},
   "outputs": [
    {
     "name": "stdout",
     "output_type": "stream",
     "text": [
      "Total Sequences: 95\n"
     ]
    }
   ],
   "source": [
    "#creating a sequence of words to fitthe model wth one word as input and one word as output\n",
    "#create word- word sequences\n",
    "sequences=list()\n",
    "for i in range(1,len(encoded_data)):\n",
    "    sequence=encoded_data[i-1:i+1]\n",
    "    sequences.append(sequence)\n",
    "    \n",
    "print('Total Sequences: {}' .format(len(sequences)))   "
   ]
  },
  {
   "cell_type": "code",
   "execution_count": 6,
   "id": "23a9bcf5",
   "metadata": {},
   "outputs": [
    {
     "data": {
      "text/plain": [
       "[[1, 3],\n",
       " [3, 5],\n",
       " [5, 14],\n",
       " [14, 15],\n",
       " [15, 16],\n",
       " [16, 17],\n",
       " [17, 8],\n",
       " [8, 18],\n",
       " [18, 9],\n",
       " [9, 19],\n",
       " [19, 20],\n",
       " [20, 2],\n",
       " [2, 21],\n",
       " [21, 4],\n",
       " [4, 22],\n",
       " [22, 6],\n",
       " [6, 2],\n",
       " [2, 23],\n",
       " [23, 7],\n",
       " [7, 24],\n",
       " [24, 25],\n",
       " [25, 2],\n",
       " [2, 26],\n",
       " [26, 1],\n",
       " [1, 2],\n",
       " [2, 27],\n",
       " [27, 6],\n",
       " [6, 7],\n",
       " [7, 1],\n",
       " [1, 28],\n",
       " [28, 10],\n",
       " [10, 29],\n",
       " [29, 30],\n",
       " [30, 11],\n",
       " [11, 31],\n",
       " [31, 32],\n",
       " [32, 1],\n",
       " [1, 3],\n",
       " [3, 5],\n",
       " [5, 12],\n",
       " [12, 4],\n",
       " [4, 1],\n",
       " [1, 33],\n",
       " [33, 34],\n",
       " [34, 35],\n",
       " [35, 2],\n",
       " [2, 36],\n",
       " [36, 1],\n",
       " [1, 1],\n",
       " [1, 3],\n",
       " [3, 5],\n",
       " [5, 10],\n",
       " [10, 37],\n",
       " [37, 4],\n",
       " [4, 38],\n",
       " [38, 13],\n",
       " [13, 1],\n",
       " [1, 39],\n",
       " [39, 40],\n",
       " [40, 2],\n",
       " [2, 41],\n",
       " [41, 12],\n",
       " [12, 9],\n",
       " [9, 42],\n",
       " [42, 43],\n",
       " [43, 4],\n",
       " [4, 44],\n",
       " [44, 2],\n",
       " [2, 45],\n",
       " [45, 46],\n",
       " [46, 47],\n",
       " [47, 48],\n",
       " [48, 1],\n",
       " [1, 49],\n",
       " [49, 8],\n",
       " [8, 50],\n",
       " [50, 2],\n",
       " [2, 51],\n",
       " [51, 52],\n",
       " [52, 7],\n",
       " [7, 53],\n",
       " [53, 54],\n",
       " [54, 55],\n",
       " [55, 56],\n",
       " [56, 57],\n",
       " [57, 11],\n",
       " [11, 58],\n",
       " [58, 13],\n",
       " [13, 59],\n",
       " [59, 3],\n",
       " [3, 60],\n",
       " [60, 3],\n",
       " [3, 2],\n",
       " [2, 61],\n",
       " [61, 6]]"
      ]
     },
     "execution_count": 6,
     "metadata": {},
     "output_type": "execute_result"
    }
   ],
   "source": [
    "#input output pairs\n",
    "sequences"
   ]
  },
  {
   "cell_type": "code",
   "execution_count": 7,
   "id": "079b8539",
   "metadata": {},
   "outputs": [],
   "source": [
    "#split the sequences into input element X and output elememnt Y\n",
    "sequences=np.asarray(sequences)\n",
    "X,y=sequences[:,0],sequences[:,1]"
   ]
  },
  {
   "cell_type": "code",
   "execution_count": 8,
   "id": "8fce5624",
   "metadata": {},
   "outputs": [
    {
     "data": {
      "text/plain": [
       "array([ 1,  3,  5, 14, 15])"
      ]
     },
     "execution_count": 8,
     "metadata": {},
     "output_type": "execute_result"
    }
   ],
   "source": [
    "X[:5]"
   ]
  },
  {
   "cell_type": "code",
   "execution_count": 9,
   "id": "38021fd9",
   "metadata": {},
   "outputs": [
    {
     "data": {
      "text/plain": [
       "array([ 3,  5, 14, 15, 16])"
      ]
     },
     "execution_count": 9,
     "metadata": {},
     "output_type": "execute_result"
    }
   ],
   "source": [
    "y[:5]"
   ]
  },
  {
   "cell_type": "code",
   "execution_count": 10,
   "id": "6205123c",
   "metadata": {},
   "outputs": [
    {
     "data": {
      "text/plain": [
       "array([[0., 0., 0., 1., 0., 0., 0., 0., 0., 0., 0., 0., 0., 0., 0., 0.,\n",
       "        0., 0., 0., 0., 0., 0., 0., 0., 0., 0., 0., 0., 0., 0., 0., 0.,\n",
       "        0., 0., 0., 0., 0., 0., 0., 0., 0., 0., 0., 0., 0., 0., 0., 0.,\n",
       "        0., 0., 0., 0., 0., 0., 0., 0., 0., 0., 0., 0., 0., 0.],\n",
       "       [0., 0., 0., 0., 0., 1., 0., 0., 0., 0., 0., 0., 0., 0., 0., 0.,\n",
       "        0., 0., 0., 0., 0., 0., 0., 0., 0., 0., 0., 0., 0., 0., 0., 0.,\n",
       "        0., 0., 0., 0., 0., 0., 0., 0., 0., 0., 0., 0., 0., 0., 0., 0.,\n",
       "        0., 0., 0., 0., 0., 0., 0., 0., 0., 0., 0., 0., 0., 0.],\n",
       "       [0., 0., 0., 0., 0., 0., 0., 0., 0., 0., 0., 0., 0., 0., 1., 0.,\n",
       "        0., 0., 0., 0., 0., 0., 0., 0., 0., 0., 0., 0., 0., 0., 0., 0.,\n",
       "        0., 0., 0., 0., 0., 0., 0., 0., 0., 0., 0., 0., 0., 0., 0., 0.,\n",
       "        0., 0., 0., 0., 0., 0., 0., 0., 0., 0., 0., 0., 0., 0.],\n",
       "       [0., 0., 0., 0., 0., 0., 0., 0., 0., 0., 0., 0., 0., 0., 0., 1.,\n",
       "        0., 0., 0., 0., 0., 0., 0., 0., 0., 0., 0., 0., 0., 0., 0., 0.,\n",
       "        0., 0., 0., 0., 0., 0., 0., 0., 0., 0., 0., 0., 0., 0., 0., 0.,\n",
       "        0., 0., 0., 0., 0., 0., 0., 0., 0., 0., 0., 0., 0., 0.],\n",
       "       [0., 0., 0., 0., 0., 0., 0., 0., 0., 0., 0., 0., 0., 0., 0., 0.,\n",
       "        1., 0., 0., 0., 0., 0., 0., 0., 0., 0., 0., 0., 0., 0., 0., 0.,\n",
       "        0., 0., 0., 0., 0., 0., 0., 0., 0., 0., 0., 0., 0., 0., 0., 0.,\n",
       "        0., 0., 0., 0., 0., 0., 0., 0., 0., 0., 0., 0., 0., 0.]],\n",
       "      dtype=float32)"
      ]
     },
     "execution_count": 10,
     "metadata": {},
     "output_type": "execute_result"
    }
   ],
   "source": [
    "# one hot encode outputs\n",
    "y = np_utils.to_categorical(y, num_classes=vocab_size)\n",
    "# define model\n",
    "y[:5]"
   ]
  },
  {
   "cell_type": "code",
   "execution_count": 11,
   "id": "f1dab2c3",
   "metadata": {},
   "outputs": [
    {
     "name": "stdout",
     "output_type": "stream",
     "text": [
      "Model: \"sequential\"\n",
      "_________________________________________________________________\n",
      " Layer (type)                Output Shape              Param #   \n",
      "=================================================================\n",
      " embedding (Embedding)       (None, 1, 10)             620       \n",
      "                                                                 \n",
      " lstm (LSTM)                 (None, 50)                12200     \n",
      "                                                                 \n",
      " dense (Dense)               (None, 62)                3162      \n",
      "                                                                 \n",
      "=================================================================\n",
      "Total params: 15,982\n",
      "Trainable params: 15,982\n",
      "Non-trainable params: 0\n",
      "_________________________________________________________________\n",
      "None\n"
     ]
    }
   ],
   "source": [
    "#Model Buildng\n",
    "model=Sequential()\n",
    "model.add(Embedding(vocab_size,10,input_length=1))\n",
    "model.add(LSTM(50))\n",
    "model.add(Dense(vocab_size, activation='softmax'))\n",
    "print(model.summary())"
   ]
  },
  {
   "cell_type": "code",
   "execution_count": 12,
   "id": "9b63015a",
   "metadata": {},
   "outputs": [],
   "source": [
    "#compiling the network\n",
    "model.compile(loss='categorical_crossentropy',optimizer='adam',metrics=['accuracy'])"
   ]
  },
  {
   "cell_type": "code",
   "execution_count": 13,
   "id": "c115628a",
   "metadata": {},
   "outputs": [
    {
     "name": "stdout",
     "output_type": "stream",
     "text": [
      "Epoch 1/100\n",
      "3/3 [==============================] - 3s 5ms/step - loss: 4.1275 - accuracy: 0.0105\n",
      "Epoch 2/100\n",
      "3/3 [==============================] - 0s 4ms/step - loss: 4.1254 - accuracy: 0.0632\n",
      "Epoch 3/100\n",
      "3/3 [==============================] - 0s 4ms/step - loss: 4.1235 - accuracy: 0.0632\n",
      "Epoch 4/100\n",
      "3/3 [==============================] - 0s 4ms/step - loss: 4.1217 - accuracy: 0.1158\n",
      "Epoch 5/100\n",
      "3/3 [==============================] - 0s 4ms/step - loss: 4.1200 - accuracy: 0.1158\n",
      "Epoch 6/100\n",
      "3/3 [==============================] - 0s 4ms/step - loss: 4.1181 - accuracy: 0.1263\n",
      "Epoch 7/100\n",
      "3/3 [==============================] - 0s 4ms/step - loss: 4.1163 - accuracy: 0.1263\n",
      "Epoch 8/100\n",
      "3/3 [==============================] - 0s 5ms/step - loss: 4.1143 - accuracy: 0.1263\n",
      "Epoch 9/100\n",
      "3/3 [==============================] - 0s 5ms/step - loss: 4.1122 - accuracy: 0.1263\n",
      "Epoch 10/100\n",
      "3/3 [==============================] - 0s 5ms/step - loss: 4.1101 - accuracy: 0.1263\n",
      "Epoch 11/100\n",
      "3/3 [==============================] - 0s 5ms/step - loss: 4.1079 - accuracy: 0.1263\n",
      "Epoch 12/100\n",
      "3/3 [==============================] - 0s 11ms/step - loss: 4.1055 - accuracy: 0.1263\n",
      "Epoch 13/100\n",
      "3/3 [==============================] - ETA: 0s - loss: 4.0996 - accuracy: 0.15 - 0s 4ms/step - loss: 4.1029 - accuracy: 0.1263\n",
      "Epoch 14/100\n",
      "3/3 [==============================] - 0s 4ms/step - loss: 4.1001 - accuracy: 0.1263\n",
      "Epoch 15/100\n",
      "3/3 [==============================] - 0s 5ms/step - loss: 4.0974 - accuracy: 0.1263\n",
      "Epoch 16/100\n",
      "3/3 [==============================] - 0s 4ms/step - loss: 4.0945 - accuracy: 0.1263\n",
      "Epoch 17/100\n",
      "3/3 [==============================] - 0s 5ms/step - loss: 4.0909 - accuracy: 0.1263\n",
      "Epoch 18/100\n",
      "3/3 [==============================] - 0s 5ms/step - loss: 4.0876 - accuracy: 0.1263\n",
      "Epoch 19/100\n",
      "3/3 [==============================] - 0s 5ms/step - loss: 4.0837 - accuracy: 0.1263\n",
      "Epoch 20/100\n",
      "3/3 [==============================] - 0s 4ms/step - loss: 4.0799 - accuracy: 0.1263\n",
      "Epoch 21/100\n",
      "3/3 [==============================] - 0s 5ms/step - loss: 4.0756 - accuracy: 0.1263\n",
      "Epoch 22/100\n",
      "3/3 [==============================] - 0s 4ms/step - loss: 4.0708 - accuracy: 0.1263\n",
      "Epoch 23/100\n",
      "3/3 [==============================] - 0s 5ms/step - loss: 4.0661 - accuracy: 0.1263\n",
      "Epoch 24/100\n",
      "3/3 [==============================] - 0s 5ms/step - loss: 4.0606 - accuracy: 0.1263\n",
      "Epoch 25/100\n",
      "3/3 [==============================] - 0s 4ms/step - loss: 4.0548 - accuracy: 0.1263\n",
      "Epoch 26/100\n",
      "3/3 [==============================] - 0s 5ms/step - loss: 4.0484 - accuracy: 0.1263\n",
      "Epoch 27/100\n",
      "3/3 [==============================] - 0s 5ms/step - loss: 4.0423 - accuracy: 0.1263\n",
      "Epoch 28/100\n",
      "3/3 [==============================] - 0s 5ms/step - loss: 4.0348 - accuracy: 0.1263\n",
      "Epoch 29/100\n",
      "3/3 [==============================] - 0s 5ms/step - loss: 4.0269 - accuracy: 0.1263\n",
      "Epoch 30/100\n",
      "3/3 [==============================] - 0s 4ms/step - loss: 4.0186 - accuracy: 0.1263\n",
      "Epoch 31/100\n",
      "3/3 [==============================] - 0s 5ms/step - loss: 4.0097 - accuracy: 0.1263\n",
      "Epoch 32/100\n",
      "3/3 [==============================] - 0s 4ms/step - loss: 4.0000 - accuracy: 0.1263\n",
      "Epoch 33/100\n",
      "3/3 [==============================] - 0s 4ms/step - loss: 3.9893 - accuracy: 0.1263\n",
      "Epoch 34/100\n",
      "3/3 [==============================] - 0s 5ms/step - loss: 3.9779 - accuracy: 0.1263\n",
      "Epoch 35/100\n",
      "3/3 [==============================] - 0s 5ms/step - loss: 3.9659 - accuracy: 0.1263\n",
      "Epoch 36/100\n",
      "3/3 [==============================] - 0s 4ms/step - loss: 3.9533 - accuracy: 0.1263\n",
      "Epoch 37/100\n",
      "3/3 [==============================] - 0s 4ms/step - loss: 3.9388 - accuracy: 0.1263\n",
      "Epoch 38/100\n",
      "3/3 [==============================] - 0s 5ms/step - loss: 3.9231 - accuracy: 0.1263\n",
      "Epoch 39/100\n",
      "3/3 [==============================] - 0s 5ms/step - loss: 3.9086 - accuracy: 0.1263\n",
      "Epoch 40/100\n",
      "3/3 [==============================] - 0s 5ms/step - loss: 3.8899 - accuracy: 0.1263\n",
      "Epoch 41/100\n",
      "3/3 [==============================] - 0s 5ms/step - loss: 3.8724 - accuracy: 0.1263\n",
      "Epoch 42/100\n",
      "3/3 [==============================] - 0s 19ms/step - loss: 3.8536 - accuracy: 0.1263\n",
      "Epoch 43/100\n",
      "3/3 [==============================] - 0s 8ms/step - loss: 3.8310 - accuracy: 0.1158\n",
      "Epoch 44/100\n",
      "3/3 [==============================] - 0s 5ms/step - loss: 3.8112 - accuracy: 0.1158\n",
      "Epoch 45/100\n",
      "3/3 [==============================] - 0s 4ms/step - loss: 3.7894 - accuracy: 0.1158\n",
      "Epoch 46/100\n",
      "3/3 [==============================] - 0s 4ms/step - loss: 3.7636 - accuracy: 0.1158\n",
      "Epoch 47/100\n",
      "3/3 [==============================] - 0s 5ms/step - loss: 3.7403 - accuracy: 0.1158\n",
      "Epoch 48/100\n",
      "3/3 [==============================] - 0s 5ms/step - loss: 3.7149 - accuracy: 0.1158\n",
      "Epoch 49/100\n",
      "3/3 [==============================] - 0s 5ms/step - loss: 3.6888 - accuracy: 0.1158\n",
      "Epoch 50/100\n",
      "3/3 [==============================] - 0s 6ms/step - loss: 3.6620 - accuracy: 0.1158\n",
      "Epoch 51/100\n",
      "3/3 [==============================] - 0s 5ms/step - loss: 3.6361 - accuracy: 0.1158\n",
      "Epoch 52/100\n",
      "3/3 [==============================] - 0s 5ms/step - loss: 3.6078 - accuracy: 0.1158\n",
      "Epoch 53/100\n",
      "3/3 [==============================] - 0s 4ms/step - loss: 3.5806 - accuracy: 0.1263\n",
      "Epoch 54/100\n",
      "3/3 [==============================] - 0s 4ms/step - loss: 3.5534 - accuracy: 0.1263\n",
      "Epoch 55/100\n",
      "3/3 [==============================] - 0s 4ms/step - loss: 3.5262 - accuracy: 0.1263\n",
      "Epoch 56/100\n",
      "3/3 [==============================] - 0s 4ms/step - loss: 3.5008 - accuracy: 0.1474\n",
      "Epoch 57/100\n",
      "3/3 [==============================] - 0s 4ms/step - loss: 3.4758 - accuracy: 0.1474\n",
      "Epoch 58/100\n",
      "3/3 [==============================] - 0s 4ms/step - loss: 3.4507 - accuracy: 0.1579\n",
      "Epoch 59/100\n",
      "3/3 [==============================] - 0s 4ms/step - loss: 3.4249 - accuracy: 0.1368\n",
      "Epoch 60/100\n",
      "3/3 [==============================] - 0s 5ms/step - loss: 3.4033 - accuracy: 0.1263\n",
      "Epoch 61/100\n",
      "3/3 [==============================] - 0s 4ms/step - loss: 3.3799 - accuracy: 0.1263\n",
      "Epoch 62/100\n",
      "3/3 [==============================] - 0s 5ms/step - loss: 3.3581 - accuracy: 0.1474\n",
      "Epoch 63/100\n",
      "3/3 [==============================] - 0s 4ms/step - loss: 3.3361 - accuracy: 0.1684\n",
      "Epoch 64/100\n",
      "3/3 [==============================] - 0s 5ms/step - loss: 3.3155 - accuracy: 0.1684\n",
      "Epoch 65/100\n",
      "3/3 [==============================] - 0s 4ms/step - loss: 3.2949 - accuracy: 0.1789\n",
      "Epoch 66/100\n",
      "3/3 [==============================] - 0s 5ms/step - loss: 3.2734 - accuracy: 0.1789\n",
      "Epoch 67/100\n",
      "3/3 [==============================] - 0s 4ms/step - loss: 3.2538 - accuracy: 0.1895\n",
      "Epoch 68/100\n",
      "3/3 [==============================] - 0s 5ms/step - loss: 3.2327 - accuracy: 0.1895\n",
      "Epoch 69/100\n",
      "3/3 [==============================] - 0s 5ms/step - loss: 3.2127 - accuracy: 0.1895\n",
      "Epoch 70/100\n",
      "3/3 [==============================] - 0s 7ms/step - loss: 3.1930 - accuracy: 0.1684\n",
      "Epoch 71/100\n",
      "3/3 [==============================] - 0s 5ms/step - loss: 3.1727 - accuracy: 0.1579\n",
      "Epoch 72/100\n",
      "3/3 [==============================] - 0s 7ms/step - loss: 3.1526 - accuracy: 0.1474\n",
      "Epoch 73/100\n",
      "3/3 [==============================] - 0s 5ms/step - loss: 3.1326 - accuracy: 0.1474\n",
      "Epoch 74/100\n",
      "3/3 [==============================] - 0s 6ms/step - loss: 3.1119 - accuracy: 0.1474\n",
      "Epoch 75/100\n",
      "3/3 [==============================] - 0s 4ms/step - loss: 3.0918 - accuracy: 0.1368\n",
      "Epoch 76/100\n",
      "3/3 [==============================] - 0s 4ms/step - loss: 3.0723 - accuracy: 0.1474\n",
      "Epoch 77/100\n",
      "3/3 [==============================] - 0s 5ms/step - loss: 3.0514 - accuracy: 0.1474\n",
      "Epoch 78/100\n",
      "3/3 [==============================] - 0s 5ms/step - loss: 3.0300 - accuracy: 0.1474\n",
      "Epoch 79/100\n",
      "3/3 [==============================] - 0s 5ms/step - loss: 3.0100 - accuracy: 0.1368\n",
      "Epoch 80/100\n",
      "3/3 [==============================] - 0s 4ms/step - loss: 2.9893 - accuracy: 0.1474\n",
      "Epoch 81/100\n",
      "3/3 [==============================] - 0s 5ms/step - loss: 2.9687 - accuracy: 0.1579\n",
      "Epoch 82/100\n",
      "3/3 [==============================] - 0s 5ms/step - loss: 2.9481 - accuracy: 0.1474\n",
      "Epoch 83/100\n",
      "3/3 [==============================] - 0s 5ms/step - loss: 2.9271 - accuracy: 0.1474\n",
      "Epoch 84/100\n",
      "3/3 [==============================] - 0s 7ms/step - loss: 2.9062 - accuracy: 0.1579\n",
      "Epoch 85/100\n",
      "3/3 [==============================] - 0s 5ms/step - loss: 2.8854 - accuracy: 0.1579\n",
      "Epoch 86/100\n",
      "3/3 [==============================] - 0s 4ms/step - loss: 2.8652 - accuracy: 0.1579\n",
      "Epoch 87/100\n",
      "3/3 [==============================] - 0s 5ms/step - loss: 2.8441 - accuracy: 0.1579\n",
      "Epoch 88/100\n",
      "3/3 [==============================] - 0s 5ms/step - loss: 2.8231 - accuracy: 0.1579\n",
      "Epoch 89/100\n",
      "3/3 [==============================] - 0s 5ms/step - loss: 2.8033 - accuracy: 0.1684\n",
      "Epoch 90/100\n",
      "3/3 [==============================] - 0s 6ms/step - loss: 2.7822 - accuracy: 0.1684\n",
      "Epoch 91/100\n",
      "3/3 [==============================] - 0s 7ms/step - loss: 2.7614 - accuracy: 0.1789\n",
      "Epoch 92/100\n",
      "3/3 [==============================] - 0s 4ms/step - loss: 2.7416 - accuracy: 0.1895\n",
      "Epoch 93/100\n",
      "3/3 [==============================] - 0s 4ms/step - loss: 2.7216 - accuracy: 0.2000\n",
      "Epoch 94/100\n",
      "3/3 [==============================] - 0s 5ms/step - loss: 2.7013 - accuracy: 0.2211\n",
      "Epoch 95/100\n",
      "3/3 [==============================] - 0s 5ms/step - loss: 2.6810 - accuracy: 0.2316\n",
      "Epoch 96/100\n",
      "3/3 [==============================] - 0s 5ms/step - loss: 2.6612 - accuracy: 0.2316\n",
      "Epoch 97/100\n",
      "3/3 [==============================] - 0s 5ms/step - loss: 2.6414 - accuracy: 0.2526\n",
      "Epoch 98/100\n",
      "3/3 [==============================] - 0s 5ms/step - loss: 2.6214 - accuracy: 0.3368\n",
      "Epoch 99/100\n",
      "3/3 [==============================] - 0s 5ms/step - loss: 2.6019 - accuracy: 0.3474\n",
      "Epoch 100/100\n",
      "3/3 [==============================] - 0s 6ms/step - loss: 2.5826 - accuracy: 0.3474\n"
     ]
    },
    {
     "data": {
      "text/plain": [
       "<keras.callbacks.History at 0x228866e3340>"
      ]
     },
     "execution_count": 13,
     "metadata": {},
     "output_type": "execute_result"
    }
   ],
   "source": [
    "model.fit(X,y,epochs=100)"
   ]
  },
  {
   "cell_type": "code",
   "execution_count": 14,
   "id": "469385da",
   "metadata": {},
   "outputs": [],
   "source": [
    "#generate a sequence from the model\n",
    "def generate_seq(model,tokenizer,enter_text,n_predict):\n",
    "    input,result=enter_text,enter_text\n",
    "    #generate a fix number of words\n",
    "    for i in range (n_predict):\n",
    "        \n",
    "        #encode the text as integers\n",
    "        \n",
    "        encoded=tokenizer.texts_to_sequences([input])[0]\n",
    "        encoded=np.asarray(encoded)\n",
    "        \n",
    "        #predict a word in vocabulary\n",
    "        predicted_word = np.argmax(model.predict(encoded))\n",
    "        \n",
    "        \n",
    "        #map predicted word index to word\n",
    "        out_word=''\n",
    "        for word,index in tokenizer.word_index.items():\n",
    "            if index==predicted_word:\n",
    "                out_word=word\n",
    "                break;\n",
    "        #append to  input\n",
    "        input, result= out_word, result+\" \"+out_word\n",
    "            \n",
    "    return result;   \n",
    "        \n",
    "        "
   ]
  },
  {
   "cell_type": "code",
   "execution_count": 15,
   "id": "eec792fb",
   "metadata": {},
   "outputs": [
    {
     "name": "stdout",
     "output_type": "stream",
     "text": [
      "statistics data data data data data data\n"
     ]
    }
   ],
   "source": [
    "#evaluating \n",
    "print(generate_seq(model, tokenizer, 'statistics', 6))"
   ]
  },
  {
   "cell_type": "code",
   "execution_count": 16,
   "id": "fc3b4cdc",
   "metadata": {},
   "outputs": [
    {
     "name": "stdout",
     "output_type": "stream",
     "text": [
      "informatics and statistics data data data data\n"
     ]
    }
   ],
   "source": [
    "#evaluating \n",
    "print(generate_seq(model, tokenizer, 'informatics', 6))"
   ]
  },
  {
   "cell_type": "code",
   "execution_count": null,
   "id": "f839c4d8",
   "metadata": {},
   "outputs": [],
   "source": []
  }
 ],
 "metadata": {
  "kernelspec": {
   "display_name": "Python 3 (ipykernel)",
   "language": "python",
   "name": "python3"
  },
  "language_info": {
   "codemirror_mode": {
    "name": "ipython",
    "version": 3
   },
   "file_extension": ".py",
   "mimetype": "text/x-python",
   "name": "python",
   "nbconvert_exporter": "python",
   "pygments_lexer": "ipython3",
   "version": "3.9.5"
  }
 },
 "nbformat": 4,
 "nbformat_minor": 5
}
